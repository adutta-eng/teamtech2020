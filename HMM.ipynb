{
 "cells": [
  {
   "cell_type": "code",
   "execution_count": 3,
   "metadata": {},
   "outputs": [
    {
     "name": "stdout",
     "output_type": "stream",
     "text": [
      "Collecting networkx\n",
      "  Using cached https://files.pythonhosted.org/packages/41/8f/dd6a8e85946def36e4f2c69c84219af0fa5e832b018c970e92f2ad337e45/networkx-2.4-py3-none-any.whl\n",
      "Requirement already satisfied: decorator>=4.3.0 in c:\\users\\aisha\\onedrive\\documents\\envs\\cs361\\lib\\site-packages (from networkx) (4.4.1)\n",
      "Installing collected packages: networkx\n",
      "Successfully installed networkx-2.4\n",
      "Note: you may need to restart the kernel to use updated packages.\n"
     ]
    }
   ],
   "source": [
    "pip install networkx"
   ]
  },
  {
   "cell_type": "code",
   "execution_count": 4,
   "metadata": {},
   "outputs": [],
   "source": [
    "import numpy as np\n",
    "import pandas as pd\n",
    "import networkx as nx\n",
    "import sklearn as sk\n",
    "import matplotlib.pyplot as plt"
   ]
  },
  {
   "cell_type": "code",
   "execution_count": 30,
   "metadata": {},
   "outputs": [
    {
     "name": "stdout",
     "output_type": "stream",
     "text": [
      "foreground usage    0.5\n",
      "background usage    0.3\n",
      "service             0.1\n",
      "no usage            0.1\n",
      "Name: observable_states, dtype: float64\n",
      "1.0\n"
     ]
    }
   ],
   "source": [
    "observable_states = ['foreground usage', 'background usage', 'service', 'no usage']\n",
    "state_probabilities = [0.5, 0.3, 0.1, 0.1]\n",
    "state_space = pd.Series(state_probabilities, index=states, name='observable_states')\n",
    "print(state_space)\n",
    "print(state_space.sum())"
   ]
  },
  {
   "cell_type": "code",
   "execution_count": 31,
   "metadata": {},
   "outputs": [
    {
     "name": "stdout",
     "output_type": "stream",
     "text": [
      "                 foreground usage background usage service no usage\n",
      "foreground usage              0.2              0.3     0.4      0.1\n",
      "background usage             0.45              0.4     0.1     0.05\n",
      "service                       0.4              0.2     0.3      0.1\n",
      "no usage                      0.2              0.7     0.1      0.2\n"
     ]
    }
   ],
   "source": [
    "transition_matrix = pd.DataFrame(columns=states, index=states)\n",
    "transition_matrix.loc[states[0]] = [0.2, 0.3, 0.4, 0.1]\n",
    "transition_matrix.loc[states[1]] = [0.45, 0.4, 0.1, 0.05]\n",
    "transition_matrix.loc[states[2]] = [0.4, 0.2, 0.3, 0.1]\n",
    "transition_matrix.loc[states[3]] = [0.2, 0.7, 0.1, 0.2]\n",
    "print(transition_matrix)"
   ]
  },
  {
   "cell_type": "code",
   "execution_count": 8,
   "metadata": {},
   "outputs": [
    {
     "name": "stdout",
     "output_type": "stream",
     "text": [
      "Collecting pprint\n",
      "  Downloading https://files.pythonhosted.org/packages/99/12/b6383259ef85c2b942ab9135f322c0dce83fdca8600d87122d2b0181451f/pprint-0.1.tar.gz\n",
      "Building wheels for collected packages: pprint\n",
      "  Building wheel for pprint (setup.py): started\n",
      "  Building wheel for pprint (setup.py): finished with status 'done'\n",
      "  Created wheel for pprint: filename=pprint-0.1-cp37-none-any.whl size=1255 sha256=72bfb99c4e9aa06ac733367252a2f47dea000566f7ed21517a91bd6ce7cbc57c\n",
      "  Stored in directory: C:\\Users\\aisha\\AppData\\Local\\pip\\Cache\\wheels\\42\\d4\\c6\\16a6495aecc1bda5d5857bd036efd50617789ba9bea4a05124\n",
      "Successfully built pprint\n",
      "Installing collected packages: pprint\n",
      "Successfully installed pprint-0.1\n",
      "Note: you may need to restart the kernel to use updated packages.\n"
     ]
    }
   ],
   "source": [
    "pip install pprint"
   ]
  },
  {
   "cell_type": "code",
   "execution_count": 27,
   "metadata": {},
   "outputs": [
    {
     "name": "stdout",
     "output_type": "stream",
     "text": [
      "{('background usage', 'background usage'): 0.4,\n",
      " ('background usage', 'foreground usage'): 0.45,\n",
      " ('background usage', 'no usage'): 0.05,\n",
      " ('background usage', 'service'): 0.1,\n",
      " ('foreground usage', 'background usage'): 0.3,\n",
      " ('foreground usage', 'foreground usage'): 0.2,\n",
      " ('foreground usage', 'no usage'): 0.1,\n",
      " ('foreground usage', 'service'): 0.4,\n",
      " ('no usage', 'background usage'): 0.7,\n",
      " ('no usage', 'foreground usage'): 0.2,\n",
      " ('no usage', 'no usage'): 0.2,\n",
      " ('no usage', 'service'): 0.1,\n",
      " ('service', 'background usage'): 0.2,\n",
      " ('service', 'foreground usage'): 0.4,\n",
      " ('service', 'no usage'): 0.1,\n",
      " ('service', 'service'): 0.3}\n"
     ]
    }
   ],
   "source": [
    "from pprint import pprint\n",
    "def get_markov_edges(transition_df):\n",
    "    edges = {}\n",
    "    for column in transition_df.columns:\n",
    "        for index in transition_df.index:\n",
    "            edges[(index, column)] = transition_df.loc[index, column]\n",
    "    return edges\n",
    "\n",
    "edge_weights = get_markov_edges(transition_matrix)\n",
    "pprint(edge_weights)"
   ]
  },
  {
   "cell_type": "code",
   "execution_count": 14,
   "metadata": {},
   "outputs": [
    {
     "name": "stdout",
     "output_type": "stream",
     "text": [
      "Collecting pydot\n",
      "  Downloading https://files.pythonhosted.org/packages/33/d1/b1479a770f66d962f545c2101630ce1d5592d90cb4f083d38862e93d16d2/pydot-1.4.1-py2.py3-none-any.whl\n",
      "Requirement already satisfied: pyparsing>=2.1.4 in c:\\users\\aisha\\onedrive\\documents\\envs\\cs361\\lib\\site-packages (from pydot) (2.4.5)\n",
      "Installing collected packages: pydot\n",
      "Successfully installed pydot-1.4.1\n",
      "Note: you may need to restart the kernel to use updated packages.\n"
     ]
    }
   ],
   "source": [
    "pip install pydot"
   ]
  },
  {
   "cell_type": "code",
   "execution_count": 28,
   "metadata": {},
   "outputs": [
    {
     "name": "stdout",
     "output_type": "stream",
     "text": [
      "Nodes:\n",
      "['foreground usage', 'background usage', 'service', 'no usage']\n",
      "\n",
      "Edges:\n",
      "OutMultiEdgeDataView([('foreground usage', 'foreground usage', {'weight': 0.2, 'label': 0.2}), ('foreground usage', 'background usage', {'weight': 0.3, 'label': 0.3}), ('foreground usage', 'service', {'weight': 0.4, 'label': 0.4}), ('foreground usage', 'no usage', {'weight': 0.1, 'label': 0.1}), ('background usage', 'foreground usage', {'weight': 0.45, 'label': 0.45}), ('background usage', 'background usage', {'weight': 0.4, 'label': 0.4}), ('background usage', 'service', {'weight': 0.1, 'label': 0.1}), ('background usage', 'no usage', {'weight': 0.05, 'label': 0.05}), ('service', 'foreground usage', {'weight': 0.4, 'label': 0.4}), ('service', 'background usage', {'weight': 0.2, 'label': 0.2}), ('service', 'service', {'weight': 0.3, 'label': 0.3}), ('service', 'no usage', {'weight': 0.1, 'label': 0.1}), ('no usage', 'foreground usage', {'weight': 0.2, 'label': 0.2}), ('no usage', 'background usage', {'weight': 0.7, 'label': 0.7}), ('no usage', 'service', {'weight': 0.1, 'label': 0.1}), ('no usage', 'no usage', {'weight': 0.2, 'label': 0.2})])\n"
     ]
    }
   ],
   "source": [
    "G = nx.MultiDiGraph()\n",
    "\n",
    "G.add_nodes_from(states)\n",
    "print(f'Nodes:\\n{G.nodes()}\\n')\n",
    "\n",
    "for k, v in edge_weights.items():\n",
    "    tmp_origin, tmp_destination = k[0], k[1]\n",
    "    G.add_edge(tmp_origin, tmp_destination, weight=v, label=v)\n",
    "print(f'Edges:')\n",
    "pprint(G.edges(data=True))"
   ]
  },
  {
   "cell_type": "code",
   "execution_count": 32,
   "metadata": {},
   "outputs": [
    {
     "name": "stdout",
     "output_type": "stream",
     "text": [
      "unproductive      0.35\n",
      "productive        0.35\n",
      "semiproductive    0.30\n",
      "Name: states, dtype: float64\n",
      "\n",
      " 1.0\n"
     ]
    }
   ],
   "source": [
    "hidden_states = ['unproductive', 'productive', 'semiproductive']\n",
    "init_probabilities = [0.35, 0.35, 0.3]\n",
    "hidden_state_space = pd.Series(init_probabilities, index=hidden_states, name='states')\n",
    "print(hidden_state_space)\n",
    "print('\\n', hidden_state_space.sum())"
   ]
  },
  {
   "cell_type": "code",
   "execution_count": 35,
   "metadata": {},
   "outputs": [
    {
     "name": "stdout",
     "output_type": "stream",
     "text": [
      "               unproductive productive semiproductive\n",
      "unproductive            0.4        0.2            0.4\n",
      "productive             0.45       0.45            0.1\n",
      "semiproductive         0.45       0.25            0.3\n",
      "\n",
      " [[0.4 0.2 0.4]\n",
      " [0.45 0.45 0.1]\n",
      " [0.45 0.25 0.3]] (3, 3) \n",
      "\n",
      "unproductive      1.0\n",
      "productive        1.0\n",
      "semiproductive    1.0\n",
      "dtype: float64\n"
     ]
    }
   ],
   "source": [
    "q_df = pd.DataFrame(columns=hidden_states, index=hidden_states)\n",
    "q_df.loc[hidden_states[0]] = [0.4, 0.2, 0.4]\n",
    "q_df.loc[hidden_states[1]] = [0.45, 0.45, 0.1]\n",
    "q_df.loc[hidden_states[2]] = [0.45, 0.25, .3]\n",
    "\n",
    "print(q_df)\n",
    "\n",
    "q = q_df.values\n",
    "print('\\n', q, q.shape, '\\n')\n",
    "print(q_df.sum(axis=1))"
   ]
  },
  {
   "cell_type": "code",
   "execution_count": 38,
   "metadata": {},
   "outputs": [
    {
     "name": "stdout",
     "output_type": "stream",
     "text": [
      "               foreground usage background usage service no usage\n",
      "unproductive                0.2              0.5     0.2      0.1\n",
      "productive                  0.4              0.1     0.3      0.2\n",
      "semiproductive              0.1              0.6     0.1      0.2\n",
      "\n",
      " [[0.2 0.5 0.2 0.1]\n",
      " [0.4 0.1 0.3 0.2]\n",
      " [0.1 0.6 0.1 0.2]] (3, 4) \n",
      "\n",
      "unproductive      1.0\n",
      "productive        1.0\n",
      "semiproductive    1.0\n",
      "dtype: float64\n"
     ]
    }
   ],
   "source": [
    "b_df = pd.DataFrame(columns=observable_states, index=hidden_states)\n",
    "b_df.loc[hidden_states[0]] = [0.2, 0.5, 0.2, 0.1]\n",
    "b_df.loc[hidden_states[1]] = [0.4, 0.1, 0.3, 0.2]\n",
    "b_df.loc[hidden_states[2]] = [0.1, 0.6, 0.1, 0.2]\n",
    "\n",
    "print(b_df)\n",
    "\n",
    "b = b_df.values\n",
    "print('\\n', b, b.shape, '\\n')\n",
    "print(b_df.sum(axis=1))"
   ]
  },
  {
   "cell_type": "code",
   "execution_count": 40,
   "metadata": {},
   "outputs": [
    {
     "name": "stdout",
     "output_type": "stream",
     "text": [
      "{('productive', 'productive'): 0.45,\n",
      " ('productive', 'semiproductive'): 0.1,\n",
      " ('productive', 'unproductive'): 0.45,\n",
      " ('semiproductive', 'productive'): 0.25,\n",
      " ('semiproductive', 'semiproductive'): 0.3,\n",
      " ('semiproductive', 'unproductive'): 0.45,\n",
      " ('unproductive', 'productive'): 0.2,\n",
      " ('unproductive', 'semiproductive'): 0.4,\n",
      " ('unproductive', 'unproductive'): 0.4}\n",
      "{('productive', 'background usage'): 0.1,\n",
      " ('productive', 'foreground usage'): 0.4,\n",
      " ('productive', 'no usage'): 0.2,\n",
      " ('productive', 'service'): 0.3,\n",
      " ('semiproductive', 'background usage'): 0.6,\n",
      " ('semiproductive', 'foreground usage'): 0.1,\n",
      " ('semiproductive', 'no usage'): 0.2,\n",
      " ('semiproductive', 'service'): 0.1,\n",
      " ('unproductive', 'background usage'): 0.5,\n",
      " ('unproductive', 'foreground usage'): 0.2,\n",
      " ('unproductive', 'no usage'): 0.1,\n",
      " ('unproductive', 'service'): 0.2}\n"
     ]
    }
   ],
   "source": [
    "hide_edges_wts = get_markov_edges(q_df)\n",
    "pprint(hide_edges_wts)\n",
    "\n",
    "emit_edges_wts = get_markov_edges(b_df)\n",
    "pprint(emit_edges_wts)"
   ]
  },
  {
   "cell_type": "code",
   "execution_count": 42,
   "metadata": {},
   "outputs": [
    {
     "name": "stdout",
     "output_type": "stream",
     "text": [
      "Nodes:\n",
      "['unproductive', 'productive', 'semiproductive']\n",
      "\n",
      "Edges:\n",
      "OutMultiEdgeDataView([('unproductive', 'unproductive', {'weight': 0.4, 'label': 0.4}), ('unproductive', 'productive', {'weight': 0.2, 'label': 0.2}), ('unproductive', 'semiproductive', {'weight': 0.4, 'label': 0.4}), ('unproductive', 'foreground usage', {'weight': 0.2, 'label': 0.2}), ('unproductive', 'background usage', {'weight': 0.5, 'label': 0.5}), ('unproductive', 'service', {'weight': 0.2, 'label': 0.2}), ('unproductive', 'no usage', {'weight': 0.1, 'label': 0.1}), ('productive', 'unproductive', {'weight': 0.45, 'label': 0.45}), ('productive', 'productive', {'weight': 0.45, 'label': 0.45}), ('productive', 'semiproductive', {'weight': 0.1, 'label': 0.1}), ('productive', 'foreground usage', {'weight': 0.4, 'label': 0.4}), ('productive', 'background usage', {'weight': 0.1, 'label': 0.1}), ('productive', 'service', {'weight': 0.3, 'label': 0.3}), ('productive', 'no usage', {'weight': 0.2, 'label': 0.2}), ('semiproductive', 'unproductive', {'weight': 0.45, 'label': 0.45}), ('semiproductive', 'productive', {'weight': 0.25, 'label': 0.25}), ('semiproductive', 'semiproductive', {'weight': 0.3, 'label': 0.3}), ('semiproductive', 'foreground usage', {'weight': 0.1, 'label': 0.1}), ('semiproductive', 'background usage', {'weight': 0.6, 'label': 0.6}), ('semiproductive', 'service', {'weight': 0.1, 'label': 0.1}), ('semiproductive', 'no usage', {'weight': 0.2, 'label': 0.2})])\n"
     ]
    }
   ],
   "source": [
    "G = nx.MultiDiGraph()\n",
    "\n",
    "# nodes correspond to states\n",
    "G.add_nodes_from(hidden_states)\n",
    "print(f'Nodes:\\n{G.nodes()}\\n')\n",
    "\n",
    "# edges represent hidden probabilities\n",
    "for k, v in hide_edges_wts.items():\n",
    "    tmp_origin, tmp_destination = k[0], k[1]\n",
    "    G.add_edge(tmp_origin, tmp_destination, weight=v, label=v)\n",
    "\n",
    "# edges represent emission probabilities\n",
    "for k, v in emit_edges_wts.items():\n",
    "    tmp_origin, tmp_destination = k[0], k[1]\n",
    "    G.add_edge(tmp_origin, tmp_destination, weight=v, label=v)\n",
    "    \n",
    "print(f'Edges:')\n",
    "pprint(G.edges(data=True))    "
   ]
  },
  {
   "cell_type": "code",
   "execution_count": 44,
   "metadata": {},
   "outputs": [
    {
     "name": "stdout",
     "output_type": "stream",
     "text": [
      "   observation_code   observation_seq\n",
      "0                 1  background usage\n",
      "1                 1  background usage\n",
      "2                 2           service\n",
      "3                 3          no usage\n",
      "4                 1  background usage\n",
      "5                 3          no usage\n",
      "6                 3          no usage\n",
      "7                 3          no usage\n",
      "8                 0  foreground usage\n",
      "9                 1  background usage\n",
      "10                1  background usage\n",
      "11                1  background usage\n",
      "12                2           service\n",
      "13                3          no usage\n",
      "14                3          no usage\n",
      "15                1  background usage\n",
      "16                0  foreground usage\n",
      "17                3          no usage\n",
      "18                2           service\n",
      "19                2           service\n",
      "20                3          no usage\n",
      "21                3          no usage\n",
      "22                0  foreground usage\n",
      "23                1  background usage\n",
      "24                0  foreground usage\n",
      "25                1  background usage\n"
     ]
    }
   ],
   "source": [
    "obs_map = {'foreground usage':0, 'background usage':1, 'service':2, 'no usage':3}\n",
    "obs = np.array([1,1,2,3,1,3,3,3,0,1,1,1,2,3,3,1,0,3,2,2,3,3,0,1,0,1])\n",
    "inv_obs_map = dict((v,k) for k, v in obs_map.items())\n",
    "obs_seq = [inv_obs_map[v] for v in list(obs)]\n",
    "\n",
    "print( pd.DataFrame(np.column_stack([obs, obs_seq]), \n",
    "                columns=['observation_code', 'observation_seq']) )"
   ]
  },
  {
   "cell_type": "code",
   "execution_count": null,
   "metadata": {},
   "outputs": [],
   "source": []
  }
 ],
 "metadata": {
  "kernelspec": {
   "display_name": "Python 3",
   "language": "python",
   "name": "python3"
  },
  "language_info": {
   "codemirror_mode": {
    "name": "ipython",
    "version": 3
   },
   "file_extension": ".py",
   "mimetype": "text/x-python",
   "name": "python",
   "nbconvert_exporter": "python",
   "pygments_lexer": "ipython3",
   "version": "3.7.5"
  }
 },
 "nbformat": 4,
 "nbformat_minor": 2
}
